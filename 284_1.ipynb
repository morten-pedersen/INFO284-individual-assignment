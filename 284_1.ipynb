{
 "cells": [
  {
   "cell_type": "code",
   "execution_count": null,
   "metadata": {
    "collapsed": true
   },
   "outputs": [],
   "source": [
    "file_handler = open(\"Flaveria.csv\", \"r\")\n",
    "\n",
    "# parses the csv data into a pandas data frame\n",
    "data = pd.read_csv(file_handler, sep = \",\")\n",
    "data_replaced_flowernames = data.replace({'species':{'brownii': 1, 'pringlei': 2, 'trinervia': 3, 'ramosissima': 4,\n",
    "\t'robusta': 5, 'bidentis': 6}})\n",
    "cleaned_data = data_replaced_flowernames.replace({'N level':{'L': 1, 'M': 5, 'H': 10}})\n",
    "\n",
    "file_handler.close()\n"
   ]
  },
  {
   "cell_type": "code",
   "execution_count": null,
   "metadata": {},
   "outputs": [],
   "source": [
    ""
   ]
  }
 ],
 "metadata": {
  "kernelspec": {
   "display_name": "Python 2",
   "language": "python",
   "name": "python2"
  },
  "language_info": {
   "codemirror_mode": {
    "name": "ipython",
    "version": 2
   },
   "file_extension": ".py",
   "mimetype": "text/x-python",
   "name": "python",
   "nbconvert_exporter": "python",
   "pygments_lexer": "ipython2",
   "version": "2.7.6"
  }
 },
 "nbformat": 4,
 "nbformat_minor": 0
}
